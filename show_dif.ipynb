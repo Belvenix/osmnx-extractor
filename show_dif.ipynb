{
 "cells": [
  {
   "cell_type": "markdown",
   "metadata": {},
   "source": [
    "# Show difference\n",
    "In this notebook we provide visualization of extracted graphs and also visualization of differences in this graph. "
   ]
  },
  {
   "cell_type": "code",
   "execution_count": null,
   "metadata": {},
   "outputs": [],
   "source": [
    "import osmnx as ox\n",
    "import networkx as nx"
   ]
  },
  {
   "cell_type": "markdown",
   "metadata": {},
   "source": [
    "In the code below please provide graphs from the same city from different timestamps."
   ]
  },
  {
   "cell_type": "code",
   "execution_count": null,
   "metadata": {},
   "outputs": [],
   "source": [
    "first_path = \"graphml_files/europe_italy_milano_2012\"\n",
    "second_path = \"graphml_files/europe_italy_milano_2022\""
   ]
  },
  {
   "cell_type": "code",
   "execution_count": null,
   "metadata": {},
   "outputs": [],
   "source": [
    "first_graph = ox.io.load_graphml(first_path)\n",
    "second_graph = ox.io.load_graphml(second_path)"
   ]
  },
  {
   "cell_type": "code",
   "execution_count": null,
   "metadata": {},
   "outputs": [],
   "source": [
    "def difference(first, second):\n",
    "    dif = nx.create_empty_copy(second)\n",
    "    dif_cycle = nx.create_empty_copy(second)\n",
    "    dif.name = f\"Difference of {first.name} and {second.name} without cycleway\"\n",
    "    dif_cycle.name = f\"Difference of {first.name} and {second.name} with only cycleway\"\n",
    "    \n",
    "    dif_nodes = set(second) - set(first)\n",
    "    if len(dif_nodes) == 0:\n",
    "        print(\"There are no new nodes\")\n",
    "    \n",
    "    dif_edges = set(second.edges()) - set(first.edges())\n",
    "    if len(dif_nodes) == 0:\n",
    "        print(\"There are no new edges\")\n",
    "        \n",
    "    for edge in set(second.edges()):\n",
    "        for x in second.edges([edge[0], edge[1]], data=True):\n",
    "            save=True\n",
    "            x_values = x[2]\n",
    "            x_values.pop('osmid', None) \n",
    "            x_values.pop('name', None)\n",
    "            for y in first.edges([edge[0], edge[1]], data=True):\n",
    "                y_values = y[2]\n",
    "                y_values.pop('osmid', None) \n",
    "                y_values.pop('name', None)\n",
    "                if x_values == y_values:\n",
    "                    save=False\n",
    "                \n",
    "            if save:\n",
    "                if x[2]['highway'] == 'cycleway':\n",
    "                    dif_cycle.add_edges_from([(x[0], x[1], x[2])])\n",
    "                else:\n",
    "                    dif.add_edges_from([(x[0], x[1], x[2])])\n",
    "        \n",
    "    return dif, dif_cycle"
   ]
  },
  {
   "cell_type": "code",
   "execution_count": null,
   "metadata": {},
   "outputs": [],
   "source": [
    "dif_graph, dif_graph_cycle = difference(first_graph, second_graph)"
   ]
  },
  {
   "cell_type": "code",
   "execution_count": null,
   "metadata": {},
   "outputs": [],
   "source": [
    "print(f\"Diff graph {dif_graph.name}\")\n",
    "ox.plot_graph_folium(dif_graph, popup_attribute=\"highway\") #speed, name, maxspeed, oneway, length"
   ]
  },
  {
   "cell_type": "code",
   "execution_count": null,
   "metadata": {},
   "outputs": [],
   "source": [
    "print(f\"Diff graph with cycle ways{dif_graph_cycle.name}\")\n",
    "ox.plot_graph_folium(dif_graph_cycle, popup_attribute=\"highway\") #speed, name, maxspeed, oneway, length"
   ]
  },
  {
   "cell_type": "code",
   "execution_count": null,
   "metadata": {},
   "outputs": [],
   "source": [
    "print(f\"First graph {first_graph.name}\")\n",
    "ox.plot_graph_folium(first_graph)"
   ]
  },
  {
   "cell_type": "code",
   "execution_count": null,
   "metadata": {},
   "outputs": [],
   "source": [
    "print(f\"Second graph {second_graph.name}\")\n",
    "ox.plot_graph_folium(second_graph)"
   ]
  },
  {
   "cell_type": "code",
   "execution_count": null,
   "metadata": {},
   "outputs": [],
   "source": []
  }
 ],
 "metadata": {
  "kernelspec": {
   "display_name": "Python 3",
   "language": "python",
   "name": "python3"
  },
  "language_info": {
   "codemirror_mode": {
    "name": "ipython",
    "version": 3
   },
   "file_extension": ".py",
   "mimetype": "text/x-python",
   "name": "python",
   "nbconvert_exporter": "python",
   "pygments_lexer": "ipython3",
   "version": "3.8.10"
  }
 },
 "nbformat": 4,
 "nbformat_minor": 4
}
