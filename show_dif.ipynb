{
 "cells": [
  {
   "cell_type": "code",
   "execution_count": 4,
   "metadata": {},
   "outputs": [],
   "source": [
    "import osmnx as ox\n",
    "import networkx as nx"
   ]
  },
  {
   "cell_type": "code",
   "execution_count": 2,
   "metadata": {},
   "outputs": [],
   "source": [
    "first_path = \"\"\n",
    "second_path = \"\""
   ]
  },
  {
   "cell_type": "code",
   "execution_count": null,
   "metadata": {},
   "outputs": [],
   "source": [
    "first_graph = ox.io.load_graphml(first_path)\n",
    "second_graph = ox.io.load_graphml(second_path)"
   ]
  },
  {
   "cell_type": "code",
   "execution_count": 3,
   "metadata": {},
   "outputs": [],
   "source": [
    "def difference(first, second):\n",
    "    dif = nx.create_empty_copy(second)\n",
    "    dif.name = f\"Difference of {first.name} and {second.name}\"\n",
    "    \n",
    "    dif_nodes = set(second) - set(first)\n",
    "    if len(dif_nodes) == 0:\n",
    "        print(\"There are no new nodes\")\n",
    "    \n",
    "    dif_edges = set(second.edges()) - set(first.edges())\n",
    "    dif.add_edges_from(dif_edges)\n",
    "    \n",
    "    return dif"
   ]
  },
  {
   "cell_type": "code",
   "execution_count": null,
   "metadata": {},
   "outputs": [],
   "source": [
    "print(f\"First graph {first_path.name}\")\n",
    "ox.plot_graph_folium(first_graph)"
   ]
  },
  {
   "cell_type": "code",
   "execution_count": null,
   "metadata": {},
   "outputs": [],
   "source": [
    "print(f\"Second graph {second_graph.name}\")\n",
    "ox.plot_graph_folium(second_graph)"
   ]
  },
  {
   "cell_type": "code",
   "execution_count": null,
   "metadata": {},
   "outputs": [],
   "source": [
    "dif_graph = difference(first_path, second_graph)\n",
    "print(f\"Diff graph {dif_graph.name}\")\n",
    "if len(dif_graph.edges()) != 0:\n",
    "    ox.plot_graph_folium(dif_graph)\n",
    "else:\n",
    "    print(\"There are no edges in diff\")"
   ]
  }
 ],
 "metadata": {
  "kernelspec": {
   "display_name": "Python 3",
   "language": "python",
   "name": "python3"
  },
  "language_info": {
   "codemirror_mode": {
    "name": "ipython",
    "version": 3
   },
   "file_extension": ".py",
   "mimetype": "text/x-python",
   "name": "python",
   "nbconvert_exporter": "python",
   "pygments_lexer": "ipython3",
   "version": "3.8.10"
  }
 },
 "nbformat": 4,
 "nbformat_minor": 4
}
